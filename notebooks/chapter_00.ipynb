{
  "cells": [
    {
      "cell_type": "markdown",
      "metadata": {
        "id": "WabMHmK-xwMq"
      },
      "source": [
        "## Chapter 0: Setup\n",
        "\n",
        "<a target=\"_blank\" href=\"https://colab.research.google.com/github/wandb/eval-course/blob/main/notebooks/chapter_00.ipynb\">\n",
        "  <img src=\"https://colab.research.google.com/assets/colab-badge.svg\" alt=\"Open In Colab\"/>\n",
        "</a>\n",
        "\n",
        "<!--- @wandbcode{eval-course-00} -->\n",
        "\n",
        "Let's install the required packages and check our setup for this course.\n",
        "\n",
        "### 🎉 Free Google AI Studio Access\n",
        "\n",
        "Before you run this colab notebook, you'll need access to Google's Generative AI models. Here's how to get started:\n",
        "\n",
        "1. Visit [Google AI Studio](https://makersuite.google.com/app/home) and sign in with your Google account\n",
        "2. Get your API key from the \"Get API key\" section in Google AI Studio\n",
        "\n",
        "Alternatively, if you already have a Google AI Studio API key, feel free to proceed. :)"
      ]
    },
    {
      "cell_type": "code",
      "execution_count": 1,
      "metadata": {
        "colab": {
          "base_uri": "https://localhost:8080/"
        },
        "id": "anAQujE_xwMz",
        "outputId": "4a46b42f-3389-496b-b6d3-34b7c98722f3"
      },
      "outputs": [
        {
          "output_type": "stream",
          "name": "stdout",
          "text": [
            "\u001b[?25l   \u001b[90m━━━━━━━━━━━━━━━━━━━━━━━━━━━━━━━━━━━━━━━━\u001b[0m \u001b[32m0.0/336.9 kB\u001b[0m \u001b[31m?\u001b[0m eta \u001b[36m-:--:--\u001b[0m\r\u001b[2K   \u001b[90m━━━━━━━━━━━━━━━━━━━━━━━━━━━━━━━━━━━━━━━━\u001b[0m \u001b[32m336.9/336.9 kB\u001b[0m \u001b[31m17.5 MB/s\u001b[0m eta \u001b[36m0:00:00\u001b[0m\n",
            "\u001b[?25h\u001b[?25l   \u001b[90m━━━━━━━━━━━━━━━━━━━━━━━━━━━━━━━━━━━━━━━━\u001b[0m \u001b[32m0.0/586.9 kB\u001b[0m \u001b[31m?\u001b[0m eta \u001b[36m-:--:--\u001b[0m\r\u001b[2K   \u001b[90m━━━━━━━━━━━━━━━━━━━━━━━━━━━━━━━━━━━━━━━━\u001b[0m \u001b[32m586.9/586.9 kB\u001b[0m \u001b[31m30.1 MB/s\u001b[0m eta \u001b[36m0:00:00\u001b[0m\n",
            "\u001b[?25h\u001b[?25l   \u001b[90m━━━━━━━━━━━━━━━━━━━━━━━━━━━━━━━━━━━━━━━━\u001b[0m \u001b[32m0.0/325.8 kB\u001b[0m \u001b[31m?\u001b[0m eta \u001b[36m-:--:--\u001b[0m\r\u001b[2K   \u001b[90m━━━━━━━━━━━━━━━━━━━━━━━━━━━━━━━━━━━━━━━━\u001b[0m \u001b[32m325.8/325.8 kB\u001b[0m \u001b[31m19.7 MB/s\u001b[0m eta \u001b[36m0:00:00\u001b[0m\n",
            "\u001b[?25h\u001b[?25l   \u001b[90m━━━━━━━━━━━━━━━━━━━━━━━━━━━━━━━━━━━━━━━━\u001b[0m \u001b[32m0.0/203.2 kB\u001b[0m \u001b[31m?\u001b[0m eta \u001b[36m-:--:--\u001b[0m\r\u001b[2K   \u001b[90m━━━━━━━━━━━━━━━━━━━━━━━━━━━━━━━━━━━━━━━━\u001b[0m \u001b[32m203.2/203.2 kB\u001b[0m \u001b[31m11.6 MB/s\u001b[0m eta \u001b[36m0:00:00\u001b[0m\n",
            "\u001b[?25h\u001b[?25l   \u001b[90m━━━━━━━━━━━━━━━━━━━━━━━━━━━━━━━━━━━━━━━━\u001b[0m \u001b[32m0.0/74.0 kB\u001b[0m \u001b[31m?\u001b[0m eta \u001b[36m-:--:--\u001b[0m\r\u001b[2K   \u001b[90m━━━━━━━━━━━━━━━━━━━━━━━━━━━━━━━━━━━━━━━━\u001b[0m \u001b[32m74.0/74.0 kB\u001b[0m \u001b[31m4.5 MB/s\u001b[0m eta \u001b[36m0:00:00\u001b[0m\n",
            "\u001b[?25h"
          ]
        }
      ],
      "source": [
        "!pip install -qq weave google-generativeai"
      ]
    },
    {
      "cell_type": "markdown",
      "metadata": {
        "id": "k32jNwI8xwM1"
      },
      "source": [
        "## 1. Setup Weave\n",
        "\n",
        "\n",
        "The code cell below will prompt you to put in a W&B API key. You can get your API key by heading over to https://wandb.ai/authorize."
      ]
    },
    {
      "cell_type": "code",
      "execution_count": 2,
      "metadata": {
        "colab": {
          "base_uri": "https://localhost:8080/",
          "height": 173
        },
        "id": "mvr2rPTfxwM2",
        "outputId": "ced57fc6-5e20-4e41-b034-f9c2a3c03c6a"
      },
      "outputs": [
        {
          "output_type": "stream",
          "name": "stdout",
          "text": [
            "Please login to Weights & Biases (https://wandb.ai/) to continue:\n"
          ]
        },
        {
          "output_type": "stream",
          "name": "stderr",
          "text": [
            "\u001b[34m\u001b[1mwandb\u001b[0m: Using wandb-core as the SDK backend.  Please refer to https://wandb.me/wandb-core for more information.\n"
          ]
        },
        {
          "output_type": "display_data",
          "data": {
            "text/plain": [
              "<IPython.core.display.Javascript object>"
            ],
            "application/javascript": [
              "\n",
              "        window._wandbApiKey = new Promise((resolve, reject) => {\n",
              "            function loadScript(url) {\n",
              "            return new Promise(function(resolve, reject) {\n",
              "                let newScript = document.createElement(\"script\");\n",
              "                newScript.onerror = reject;\n",
              "                newScript.onload = resolve;\n",
              "                document.body.appendChild(newScript);\n",
              "                newScript.src = url;\n",
              "            });\n",
              "            }\n",
              "            loadScript(\"https://cdn.jsdelivr.net/npm/postmate/build/postmate.min.js\").then(() => {\n",
              "            const iframe = document.createElement('iframe')\n",
              "            iframe.style.cssText = \"width:0;height:0;border:none\"\n",
              "            document.body.appendChild(iframe)\n",
              "            const handshake = new Postmate({\n",
              "                container: iframe,\n",
              "                url: 'https://wandb.ai/authorize'\n",
              "            });\n",
              "            const timeout = setTimeout(() => reject(\"Couldn't auto authenticate\"), 5000)\n",
              "            handshake.then(function(child) {\n",
              "                child.on('authorize', data => {\n",
              "                    clearTimeout(timeout)\n",
              "                    resolve(data)\n",
              "                });\n",
              "            });\n",
              "            })\n",
              "        });\n",
              "    "
            ]
          },
          "metadata": {}
        },
        {
          "output_type": "stream",
          "name": "stderr",
          "text": [
            "\u001b[34m\u001b[1mwandb\u001b[0m: Logging into wandb.ai. (Learn how to deploy a W&B server locally: https://wandb.me/wandb-server)\n",
            "\u001b[34m\u001b[1mwandb\u001b[0m: You can find your API key in your browser here: https://wandb.ai/authorize\n",
            "wandb: Paste an API key from your profile and hit enter, or press ctrl+c to quit:"
          ]
        },
        {
          "name": "stdout",
          "output_type": "stream",
          "text": [
            " ··········\n"
          ]
        },
        {
          "output_type": "stream",
          "name": "stderr",
          "text": [
            "\u001b[34m\u001b[1mwandb\u001b[0m: Appending key for api.wandb.ai to your netrc file: /root/.netrc\n"
          ]
        },
        {
          "output_type": "stream",
          "name": "stdout",
          "text": [
            "Logged in as Weights & Biases user: rutu-bidarkar.\n",
            "View Weave data at https://wandb.ai/rutu-bidarkar-savitribai-phule-pune-university/eval_course_ch0/weave\n"
          ]
        }
      ],
      "source": [
        "# import weave\n",
        "import weave\n",
        "\n",
        "# initialize weave client\n",
        "weave_client = weave.init(\"eval_course_ch0\")"
      ]
    },
    {
      "cell_type": "markdown",
      "metadata": {
        "id": "i2n0SQtyxwM3"
      },
      "source": [
        "## 2. Setup Google AI Studio\n",
        "\n",
        "The code cell below will prompt you to put in a Google AI Studio API key."
      ]
    },
    {
      "cell_type": "code",
      "execution_count": 4,
      "metadata": {
        "colab": {
          "base_uri": "https://localhost:8080/"
        },
        "id": "l72Pcxd_xwM4",
        "outputId": "16f27607-f500-4916-fbc5-75f87c9ca672"
      },
      "outputs": [
        {
          "name": "stdout",
          "output_type": "stream",
          "text": [
            "Please enter your Google AI Studio API key··········\n"
          ]
        }
      ],
      "source": [
        "import getpass\n",
        "\n",
        "import google.generativeai as genai\n",
        "\n",
        "genai.configure(api_key=getpass.getpass(\"Please enter your Google AI Studio API key\"))"
      ]
    },
    {
      "cell_type": "markdown",
      "metadata": {
        "id": "u4zL-y5IxwM5"
      },
      "source": [
        "## A simple-turn chat with Google AI Studio's gemini-2.0-flash-exp\n"
      ]
    },
    {
      "cell_type": "code",
      "execution_count": 5,
      "metadata": {
        "colab": {
          "base_uri": "https://localhost:8080/",
          "height": 1000
        },
        "id": "92T3oKCAxwM5",
        "outputId": "8220598c-eb24-4207-8413-66b13b676aee"
      },
      "outputs": [
        {
          "output_type": "stream",
          "name": "stdout",
          "text": [
            "🍩 https://wandb.ai/rutu-bidarkar-savitribai-phule-pune-university/eval_course_ch0/r/call/01944ec5-22a4-7371-8a80-403df1ecdf9b\n",
            "Okay, let's break down how AI works, starting with a broad overview and then diving into some key concepts. It's a vast and complex field, but I'll try to keep it as clear and concise as possible.\n",
            "\n",
            "**The Core Idea: Mimicking Intelligence**\n",
            "\n",
            "At its heart, Artificial Intelligence (AI) aims to create machines that can perform tasks that typically require human intelligence. This includes:\n",
            "\n",
            "* **Learning:** The ability to acquire knowledge and improve performance over time.\n",
            "* **Problem-solving:** The capacity to find solutions to complex issues.\n",
            "* **Reasoning:** The ability to draw logical conclusions from information.\n",
            "* **Perception:** The ability to understand and interpret sensory input (like images, sounds, or text).\n",
            "* **Language Understanding:** The ability to comprehend and generate human language.\n",
            "\n",
            "**How AI Achieves These Capabilities: Key Concepts**\n",
            "\n",
            "Here are some of the fundamental concepts that power AI:\n",
            "\n",
            "1. **Data is King:** AI thrives on data. The more data an AI system has, the better it can learn and perform. This data can be in various forms, including:\n",
            "    * **Structured Data:** Organized data like spreadsheets or databases.\n",
            "    * **Unstructured Data:** Data without a predefined format, like text, images, audio, and videos.\n",
            "\n",
            "2. **Algorithms:** AI systems use algorithms – sets of rules or instructions – to process data and make decisions. These algorithms range from simple calculations to complex statistical models.\n",
            "\n",
            "3. **Machine Learning (ML):** This is a subset of AI that focuses on enabling machines to learn from data without explicit programming. Instead of being told exactly how to solve a problem, ML algorithms learn patterns from the data and improve their performance over time. Key types of machine learning include:\n",
            "    * **Supervised Learning:** The algorithm is trained on labeled data (data with correct answers) to predict outcomes for new, unseen data. Think of training an email spam filter using examples of spam and not-spam emails.\n",
            "    * **Unsupervised Learning:** The algorithm learns patterns from unlabeled data, without pre-defined answers. This is often used for tasks like clustering similar data points or detecting anomalies.\n",
            "    * **Reinforcement Learning:** The algorithm learns through trial and error by interacting with an environment and receiving rewards or penalties for its actions. This is used for tasks like training game-playing AI or robotic navigation.\n",
            "\n",
            "4. **Neural Networks:** Inspired by the structure of the human brain, neural networks are a type of ML model consisting of interconnected nodes (neurons) organized in layers. These networks can learn complex patterns from data and are particularly good at tasks like image recognition and natural language processing.\n",
            "    * **Deep Learning:** This is a specific type of neural network with multiple layers (\"deep\") that allow for the extraction of increasingly complex features from data. Deep learning has been responsible for many breakthroughs in AI.\n",
            "\n",
            "5. **Natural Language Processing (NLP):** This field focuses on enabling computers to understand, interpret, and generate human language. NLP techniques include:\n",
            "    * **Text Analysis:** Identifying sentiment, topics, and key entities in text.\n",
            "    * **Machine Translation:** Automatically translating text from one language to another.\n",
            "    * **Chatbots:** Conversational AI systems that can interact with humans in natural language.\n",
            "\n",
            "6. **Computer Vision:** This field focuses on enabling computers to \"see\" and interpret images and videos. Computer vision techniques include:\n",
            "    * **Object Recognition:** Identifying specific objects within an image or video.\n",
            "    * **Image Classification:** Categorizing an image based on its content.\n",
            "    * **Facial Recognition:** Identifying individuals based on their facial features.\n",
            "\n",
            "**The Process: A Simplified View**\n",
            "\n",
            "Here's a high-level overview of how an AI system typically works:\n",
            "\n",
            "1. **Data Collection:** Gathering relevant data for the task.\n",
            "2. **Data Preprocessing:** Cleaning, formatting, and preparing the data for the AI model.\n",
            "3. **Model Training:** Feeding the data into the AI model and adjusting its internal parameters to learn patterns and relationships.\n",
            "4. **Model Evaluation:** Assessing the performance of the trained model on a separate dataset to ensure its accuracy and reliability.\n",
            "5. **Deployment:** Integrating the trained model into an application or system where it can be used to solve real-world problems.\n",
            "6. **Iteration and Improvement:** Continuously monitoring and refining the model based on new data and user feedback.\n",
            "\n",
            "**Examples of AI in Action**\n",
            "\n",
            "* **Recommendation Systems:** Used by platforms like Netflix and Amazon to suggest products or content based on user preferences.\n",
            "* **Virtual Assistants:** Like Siri, Alexa, and Google Assistant, which can respond to voice commands and perform tasks.\n",
            "* **Medical Diagnosis:** Helping doctors analyze medical images and patient data to diagnose diseases.\n",
            "* **Self-Driving Cars:** Using sensors and AI algorithms to navigate roads and traffic.\n",
            "* **Fraud Detection:** Identifying unusual financial transactions that might be fraudulent.\n",
            "\n",
            "**Key Considerations**\n",
            "\n",
            "* **Bias:** AI systems can be biased if the data they are trained on reflects existing societal biases.\n",
            "* **Transparency and Explainability:** Understanding how AI systems make decisions is crucial, especially for critical applications.\n",
            "* **Ethical Implications:** The ethical implications of AI need to be carefully considered and addressed.\n",
            "\n",
            "**In Conclusion**\n",
            "\n",
            "AI is a powerful and rapidly evolving field that is transforming many aspects of our lives. While the underlying technology can be complex, the basic idea is to create machines that can learn, reason, and solve problems like humans, ultimately making our lives easier and more efficient. It's a journey of continuous discovery and refinement, and we're just scratching the surface of its potential.\n",
            "\n",
            "This is a broad overview, and each of these concepts could be explored in much greater depth. But hopefully, this provides you with a good foundation for understanding how AI works. Feel free to ask if you have more specific questions!\n",
            "\n"
          ]
        }
      ],
      "source": [
        "model = genai.GenerativeModel(\"gemini-2.0-flash-exp\")\n",
        "response = model.generate_content(\"Explain how AI works\")\n",
        "print(response.text)"
      ]
    },
    {
      "cell_type": "markdown",
      "metadata": {
        "id": "Q8O1VANYxwM6"
      },
      "source": [
        "Let's head over to the weave URL to check out the generated response."
      ]
    }
  ],
  "metadata": {
    "colab": {
      "provenance": []
    },
    "kernelspec": {
      "display_name": "Python 3",
      "name": "python3"
    },
    "language_info": {
      "codemirror_mode": {
        "name": "ipython",
        "version": 3
      },
      "file_extension": ".py",
      "mimetype": "text/x-python",
      "name": "python",
      "nbconvert_exporter": "python",
      "pygments_lexer": "ipython3",
      "version": "3.10.12"
    }
  },
  "nbformat": 4,
  "nbformat_minor": 0
}